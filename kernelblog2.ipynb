{
  "nbformat": 4,
  "nbformat_minor": 0,
  "metadata": {
    "colab": {
      "name": "kernelblog2.ipynb",
      "provenance": [],
      "authorship_tag": "ABX9TyNToih5yOgYZqGYPN0qWIB6",
      "include_colab_link": true
    },
    "kernelspec": {
      "name": "python3",
      "display_name": "Python 3"
    }
  },
  "cells": [
    {
      "cell_type": "markdown",
      "metadata": {
        "id": "view-in-github",
        "colab_type": "text"
      },
      "source": [
        "<a href=\"https://colab.research.google.com/github/blakebordelon/kernel_blogs/blob/master/kernelblog2.ipynb\" target=\"_parent\"><img src=\"https://colab.research.google.com/assets/colab-badge.svg\" alt=\"Open In Colab\"/></a>"
      ]
    },
    {
      "cell_type": "markdown",
      "metadata": {
        "id": "I2vjOKCBMkr2",
        "colab_type": "text"
      },
      "source": [
        "# Solving the Kernel Regression Problem Efficiently\n",
        "\n",
        "\n",
        "This is the second blog post in a $k$-part series. \n",
        "\n",
        "In my last [post](https://colab.research.google.com/drive/1XNVNLcUzlpWT0jwS5__p0qXhF7P9tGqd#scrollTo=H5Z4NUdSxgVy), I introduced kernel regression, its mathematical definition, and a [physics-inspired theory of generalization](https://arxiv.org/abs/2002.02561) that agrees well with kernel regression experiments. In this post, we will focus on the *optimization* or training component of the algorithm as opposed to generalization. For those of you most fascinated with the statistical (generalization) puzzles of ML, the next post will be coauthored with Abdulkadir Canatar on [sample-wise multiple descents](https://arxiv.org/abs/2006.13198) when the learning problem is noisy and how we can understand the test error with a phase diagram. \n",
        "\n",
        "Today, however, our focus is very practical. We want to solve the kernel regression optimization problem numerically. The main issues we will discuss\n",
        "\n",
        "1.   Why kernel methods have historically been limited to small datasets.\n",
        "2.   How recent algorithmic advances allow efficient training of *much* larger datasets, even those with [billions of data points](https://arxiv.org/abs/2006.10350).\n",
        "\n",
        "We will discover that solving this problem efficiently is equivalent to solving a large linear system of equations efficiently. We will mostly use Ma and Belkin's [Eigenpro](https://arxiv.org/abs/1703.10622) paper as a guide on this journey. It is quite a good introduction to these issues and goes in much greater depth than I will here.\n",
        "\n",
        "\n",
        "## Problem Definition and Linear Algebra Formulation\n",
        "\n",
        "The setting of the learning problem requires we introduce the following objects\n",
        "\n",
        "1. Supervised learning dataset $\\mathcal D = \\{ (\\mathbf x_1,y_1),...,(\\mathbf x_p,y_p) \\}$ with $p$ data points. \n",
        "\n",
        "2. A reproducing kernel Hilbert space (RKHS) $\\mathcal H$ with reproducing kernel $K$. The Hilbert space has an inner product (for functions) denoted as $\\left< \\cdot , \\cdot \\right>_{\\mathcal H}$. The *reproducing property* is $\\left< g , K(\\cdot, \\mathbf x)  \\right>_{\\mathcal H} = g(\\mathbf x)$\n",
        "3. The objective function that we want to optimize\n",
        "\n",
        "$$ \\min_{f \\in \\mathcal H} \\sum_{i=1}^p \\ell(f(\\mathbf x_i), y_i) + \\lambda \\left< f,f\\right>_{\\mathcal H}$$\n",
        "\n",
        "where $\\ell(\\cdot,\\cdot)$ is a convex loss function (least squares, cross entropy, etc). \n",
        "\n",
        "If any of these things look unfamiliar or stress inducing, I encourage the reader to see the [previous post](https://colab.research.google.com/drive/1XNVNLcUzlpWT0jwS5__p0qXhF7P9tGqd#scrollTo=H5Z4NUdSxgVy), where we explain Hilbert spaces in greater detail.\n",
        "\n",
        "### Representer Theorem\n",
        "\n",
        "Implicit in the last post was a [key insight](https://en.wikipedia.org/wiki/Representer_theorem) that makes kernel methods tractable. The optimization problem posed above operates in an *infinite dimensional function space* $\\mathcal H$, yet for reasons we shall see shortly, the solution lies only in a *finite (p) dimensional sub-space*. \n",
        "\n",
        "The key observation can be made by decomposing the function $f$ into $S = \\text{span}\\{ K(\\cdot, \\mathbf x_i) \\}_{i=1}^p$ and it's orthogonal complement $\\overline{S}$.\n",
        "\n",
        "$$ f(\\mathbf x) = \\sum_{i=1}^p \\alpha_i K(\\mathbf x,\\mathbf x_i) + v(\\mathbf x)$$\n",
        "\n",
        "where $v(\\cdot) \\in \\overline{S}$. By the Reproducing property of the kernel, the empirical loss $\\sum_i \\ell(f(\\mathbf x_i),y_i)$ is independent of $v$ since\n",
        "\n",
        "$$ f(\\mathbf x_i) = \\left< f, K(\\mathbf x_i,\\cdot) \\right>_{\\mathcal H} = \\sum_j \\alpha_j \\left< K(\\mathbf x_j, \\cdot),K(\\mathbf x_i,\\cdot) \\right>_{\\mathcal H} + \\left< v, K(\\mathbf x_i,\\cdot) \\right>_{\\mathcal H} = \\sum_j \\alpha_j K(\\mathbf x_i,\\mathbf x_j)$$\n",
        "\n",
        "The Hilbert norm penalty does, however, depend on $v$ and achieves its minimum only when $v=0$\n",
        "\n",
        "$$ \\left< f, f \\right>_{\\mathcal H} = \\sum_{ij} \\alpha_i \\alpha_j K(\\mathbf x_i,\\mathbf x_j) + \\left< v,v \\right>_{\\mathcal H} \\geq \\sum_{ij} \\alpha_i \\alpha_j K(\\mathbf x_i,\\mathbf x_j) $$\n",
        "\n",
        "where the inequality is tight for $v = 0$. Therefore, the solution to the optimization problem posed above lies in $f \\in S$. \n",
        "\n",
        "### Least Squares\n",
        "\n",
        "If we specialize to least squares error for empirical cost, we can compute $\\alpha$ in closed form\n",
        "\n",
        "$$ \\min_{f \\in \\mathcal H} \\sum_{i=1}^p (f(\\mathbf x_i) - y_i)^2 + \\lambda \\left< f,f\\right>_{\\mathcal H} = \\min_{\\alpha \\in \\mathbb{R}^p} \\alpha^\\top \\mathbf K^2 \\mathbf \\alpha - 2 \\alpha^\\top \\mathbf K \\mathbf y + |\\mathbf y|^2 + \\lambda \\mathbf \\alpha^\\top \\mathbf K \\mathbf \\alpha$$\n",
        "\n",
        "Optimizing with respect this quadratic function with respect to $\\mathbf \\alpha $, we find that the optimum satisfies\n",
        "\n",
        "$$ (\\mathbf K + \\lambda \\mathbf I) \\alpha = \\mathbf y$$\n",
        "\n",
        "This is just a system of $p$ equations with $p$ unknowns. Further $\\mathbf K + \\lambda \\mathbf I$ is invertible since the kernel is positive semidefinite. Ridgeless regression $\\lambda \\to 0$ is possible when $\\mathbf K$ is positive definite. \n",
        "\n",
        "\n",
        "## Numerical Challenge of Solving Large Linear Systems\n",
        "\n",
        "We have discovered that to perform kernel regression with a least squares cost is the same as solving a linear system of $p$ variables with $p$ equations. \n",
        "\n",
        "The naive method to solve a linear system is matrix inversion. What is the numerical cost to invert a $p\\times p$ matrix? \n",
        "\n",
        "### Numerical Scaling of Matrix Inversion\n",
        "\n",
        "\n",
        "\n",
        "\n",
        "\n",
        "\n"
      ]
    },
    {
      "cell_type": "code",
      "metadata": {
        "id": "aDYU6R68-SXM",
        "colab_type": "code",
        "colab": {
          "base_uri": "https://localhost:8080/",
          "height": 297
        },
        "outputId": "c55c1073-581c-4194-bc7b-48673ee793be"
      },
      "source": [
        "import numpy as np\n",
        "import matplotlib.pyplot as plt\n",
        "import time\n",
        "\n",
        "pvals = [100,200,500,1000,2000,5000,7500,8000]\n",
        "times = []\n",
        "for i,p in enumerate(pvals):\n",
        "  K = np.random.standard_normal((p,p))\n",
        "  start = time.perf_counter()\n",
        "  Kinv = np.linalg.inv(K)\n",
        "  end = time.perf_counter()\n",
        "  times += [end -start]\n",
        "\n",
        "pcube = np.array(pvals)**3\n",
        "plt.loglog(pvals, times, label = 'experiment')\n",
        "plt.loglog(pvals, pcube / pcube[-1] * times[-1], '--', label = r'$p^3$')\n",
        "plt.legend()\n",
        "plt.xlabel('p', fontsize = 20)\n",
        "plt.ylabel('time', fontsize = 20)\n",
        "plt.tight_layout()\n",
        "plt.show()"
      ],
      "execution_count": null,
      "outputs": [
        {
          "output_type": "display_data",
          "data": {
            "image/png": "[encoded data removed]",
            "text/plain": [
              "<Figure size 432x288 with 1 Axes>"
            ]
          },
          "metadata": {
            "tags": [],
            "needs_background": "light"
          }
        }
      ]
    },
    {
      "cell_type": "markdown",
      "metadata": {
        "id": "tIMU1lNyDD_v",
        "colab_type": "text"
      },
      "source": [
        "# Straightforward Inversion Does Not Scale\n",
        "\n",
        "### Computation\n",
        "The lines for $p^3$ and the time required to invert the matrix are roughly parallel on a log-log plot, indicating that solving a $p \\times p$ linear system requires $\\mathcal O(p^3)$ operations. Modern machine learning datasets can have $10^6$ data points (ImageNet has roughly 1.6 M data points). Kernel methods would therefore naively require $\\sim 10^{18}$ operations to solve the linear system derived above! This would be challenging even for modern [supercomputers](https://en.wikipedia.org/wiki/Supercomputer#Performance_measurement).\n",
        "\n",
        "### Memory\n",
        "\n",
        "Straightforward inversion techniques typically require storing in memory the entire $p \\times p$ matrix. The memory requirements therefore scale like $\\mathcal O(p^2)$. This quickly becomes prohibitive. To solve even MNIST or CIFAR would require several gigabytes of RAM. \n",
        "\n"
      ]
    },
    {
      "cell_type": "markdown",
      "metadata": {
        "id": "x6mJls3ZLY_M",
        "colab_type": "text"
      },
      "source": [
        "# Gradient Descent / Richardson Iteration\n",
        "\n",
        "Can we develop an iterative algorithm to reduce the number of computations required to solve $\\mathbf K \\alpha = \\mathbf y$?\n",
        "\n",
        "Let's introduce the following objective function\n",
        "\n",
        "$$ \\mathcal L =  ||\\mathbf K^{1/2} \\alpha - \\mathbf K^{-1/2} \\mathbf y||^2$$\n",
        "\n",
        "which has a global minimum $\\mathcal L = 0$ at $\\alpha^* = \\mathbf K^{-1} \\mathbf y$. Note that this cost function is not the training error $||\\mathbf K \\alpha - \\mathbf y||^2$, but both losses have the same global minimizer. \n",
        "\n",
        "The gradient descent dynamics for this cost \n",
        "\n",
        "$$ \\alpha_{t+1} - \\alpha^* = \\alpha_t - \\eta \\frac{\\partial \\mathcal L}{\\partial \\alpha} = \\alpha_t - \\eta (\\mathbf K \\alpha_t - \\mathbf y) = \\alpha_t - \\eta \\mathbf K \\alpha_t  + \\eta \\mathbf K \\alpha^* = (\\mathbf I - \\eta \\mathbf K) (\\alpha_t - \\alpha^*)$$\n",
        "\n",
        "The solution to the recursion above is  \n",
        "\n",
        "$$\\alpha_t - \\alpha^* = - (\\mathbf I - \\eta \\mathbf K)^t \\alpha^*$$\n",
        "\n",
        "Great! So there is an iterative procedure that we could use to find $\\alpha$ rather than inverting the gram matrix. Each step of gradient descent costs $\\mathcal O(p^2)$ operations. For this method to outperform the naive matrix inversion, this algorithm needs to converge in fewer than $\\sim p$ iterations. Does this happen in realistic situations?\n",
        "\n",
        "## Dynamics under Eigendecomposition\n",
        "\n",
        "It is much easier to analyze trajectories of Richardson iteration in the eigenbasis of the kernel $\\mathbf K$. We saw in the last blog post that this decomposition plays a key role in understanding generalization as well. \n",
        "\n",
        "$$ K = \\sum_{k=1}^p \\lambda_k \\mathbf u_k \\mathbf u_k^\\top \\ , \\ \\alpha_t - \\alpha* = \\sum_{k=1}^p e_k(t) \\mathbf u_k $$\n",
        "\n",
        "The dynamics decouple in this basis and give\n",
        "$$ e_k(t) = (1-\\eta \\lambda_k)^t e_k(0) $$\n",
        "\n",
        "Therefore, exponential convergence of each $e_k(t) \\to 0$ is attained provided we choose a small enough learning rate\n",
        " $$\\forall k \\ , \\ |1-\\eta \\lambda_k| < 1 \\implies \\eta < \\frac{2}{\\lambda_{max}} $$\n",
        "\n",
        "\n",
        "### Problem: Large Range of Eigenvalues\n",
        "\n",
        "Typical kernel matrices can have very large range of eigenvalues that scale over multiple decades. The rate of convergence for the smallest eigenvalue is\n",
        "$$ e_p = (1-\\eta \\lambda_p)^t e_p(0)$$\n"
      ]
    }
  ]
}